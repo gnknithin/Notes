{
 "cells": [
  {
   "cell_type": "code",
   "execution_count": 22,
   "metadata": {},
   "outputs": [],
   "source": [
    "import pandas as pd\n",
    "\n",
    "_csvPath = \"../data/SchemeData1203241133SS.csv\"\n",
    "_schemaData = pd.read_csv(filepath_or_buffer=_csvPath)"
   ]
  },
  {
   "cell_type": "code",
   "execution_count": 23,
   "metadata": {},
   "outputs": [
    {
     "name": "stdout",
     "output_type": "stream",
     "text": [
      "Uniques values count in AMC : 46\n",
      "Uniques values count in Code : 15234\n",
      "Uniques values count in Scheme Name : 3300\n",
      "Uniques values count in Scheme Type : 3\n",
      "Uniques values count in Scheme Category : 51\n",
      "Uniques values count in Scheme NAV Name : 15197\n",
      "Uniques values count in Scheme Minimum Amount : 482\n",
      "Uniques values count in Launch Date : 2031\n",
      "Uniques values count in  Closure Date : 644\n",
      "Uniques values count in ISIN Div Payout/ ISIN GrowthISIN Div Reinvestment : 13733\n",
      "Total Number of Rows :15234\n"
     ]
    }
   ],
   "source": [
    "_numberOfRows = _schemaData.shape[0]\n",
    "_columnNames = list(_schemaData.columns)\n",
    "for _eachColumn in _columnNames:\n",
    "    _uniqueCount = _schemaData[_eachColumn].nunique()\n",
    "    print(f\"Uniques values count in {_eachColumn} : {_uniqueCount}\")\n",
    "print(f\"Total Number of Rows :{_numberOfRows}\")"
   ]
  }
 ],
 "metadata": {
  "kernelspec": {
   "display_name": ".venv",
   "language": "python",
   "name": "python3"
  },
  "language_info": {
   "codemirror_mode": {
    "name": "ipython",
    "version": 3
   },
   "file_extension": ".py",
   "mimetype": "text/x-python",
   "name": "python",
   "nbconvert_exporter": "python",
   "pygments_lexer": "ipython3",
   "version": "3.10.13"
  }
 },
 "nbformat": 4,
 "nbformat_minor": 2
}
