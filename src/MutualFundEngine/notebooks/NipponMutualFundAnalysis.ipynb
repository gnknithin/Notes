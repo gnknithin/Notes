{
 "cells": [
  {
   "cell_type": "code",
   "execution_count": 3,
   "metadata": {},
   "outputs": [
    {
     "name": "stdout",
     "output_type": "stream",
     "text": [
      "  Scheme Code;Scheme Name;ISIN Div Payout/ISIN Growth;ISIN Div Reinvestment;Net Asset Value;Repurchase Price;Sale Price;Date\n",
      "0  Open Ended Schemes ( Equity Scheme - Multi Cap...                                                                        \n",
      "1                           Nippon India Mutual Fund                                                                        \n",
      "2  118652;NIPPON INDIA MULTI CAP FUND - DIRECT Pl...                                                                        \n",
      "3  118652;NIPPON INDIA MULTI CAP FUND - DIRECT Pl...                                                                        \n",
      "4  118652;NIPPON INDIA MULTI CAP FUND - DIRECT Pl...                                                                        \n"
     ]
    }
   ],
   "source": [
    "import pandas as pd\n",
    "\n",
    "_csvPath = \"../data/NipponMutualFund.csv\"\n",
    "_schemaData = pd.read_csv(filepath_or_buffer=_csvPath,sep=\",\")\n",
    "print(_schemaData.head())"
   ]
  }
 ],
 "metadata": {
  "kernelspec": {
   "display_name": ".venv",
   "language": "python",
   "name": "python3"
  },
  "language_info": {
   "codemirror_mode": {
    "name": "ipython",
    "version": 3
   },
   "file_extension": ".py",
   "mimetype": "text/x-python",
   "name": "python",
   "nbconvert_exporter": "python",
   "pygments_lexer": "ipython3",
   "version": "3.10.13"
  }
 },
 "nbformat": 4,
 "nbformat_minor": 2
}
